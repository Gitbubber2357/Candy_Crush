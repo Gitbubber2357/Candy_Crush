{
 "cells": [
  {
   "cell_type": "code",
   "execution_count": 18,
   "metadata": {},
   "outputs": [
    {
     "name": "stdout",
     "output_type": "stream",
     "text": [
      "The autoreload extension is already loaded. To reload it, use:\n",
      "  %reload_ext autoreload\n"
     ]
    }
   ],
   "source": [
    "%load_ext autoreload\n",
    "%autoreload 2\n",
    "import Candy_Crush as candy"
   ]
  },
  {
   "cell_type": "markdown",
   "metadata": {},
   "source": [
    "# Candy Crush"
   ]
  },
  {
   "cell_type": "markdown",
   "metadata": {},
   "source": [
    "play candy crush please input:\n",
    "\n",
    "candy.Candy_crush()"
   ]
  },
  {
   "cell_type": "code",
   "execution_count": 10,
   "metadata": {},
   "outputs": [
    {
     "name": "stdout",
     "output_type": "stream",
     "text": [
      "Game start!\n",
      "Press Enter to continue...q\n",
      "What is your name:q\n",
      "Welcome q!\n",
      "What size of the table do you want in this game:q\n"
     ]
    },
    {
     "ename": "ValueError",
     "evalue": "",
     "output_type": "error",
     "traceback": [
      "\u001b[1;31m---------------------------------------------------------------------------\u001b[0m",
      "\u001b[1;31mValueError\u001b[0m                                Traceback (most recent call last)",
      "\u001b[1;32m<ipython-input-10-b74e7e8cfc44>\u001b[0m in \u001b[0;36m<module>\u001b[1;34m\u001b[0m\n\u001b[1;32m----> 1\u001b[1;33m \u001b[0mcandy\u001b[0m\u001b[1;33m.\u001b[0m\u001b[0mCandy_Crush\u001b[0m\u001b[1;33m(\u001b[0m\u001b[1;33m)\u001b[0m\u001b[1;33m\u001b[0m\u001b[1;33m\u001b[0m\u001b[0m\n\u001b[0m",
      "\u001b[1;32m~\\anaconda3\\Coding\\Candy_Crush.py\u001b[0m in \u001b[0;36mCandy_Crush\u001b[1;34m()\u001b[0m\n\u001b[0;32m    158\u001b[0m \u001b[1;33m\u001b[0m\u001b[0m\n\u001b[0;32m    159\u001b[0m     size = require(int, \"What size of the table do you want in this game:\",\n\u001b[1;32m--> 160\u001b[1;33m                         \"Please input an integer for the size of the table.\")\n\u001b[0m\u001b[0;32m    161\u001b[0m     types = require(int, \"How many types of candy do you want in this time:\",\n\u001b[0;32m    162\u001b[0m                          \"Please input an integer for the number of types of the fruits.\")\n",
      "\u001b[1;32m~\\anaconda3\\Coding\\Candy_Crush.py\u001b[0m in \u001b[0;36mrequire\u001b[1;34m(parser, require_hint, exception_hint)\u001b[0m\n\u001b[0;32m    144\u001b[0m \u001b[1;33m\u001b[0m\u001b[0m\n\u001b[0;32m    145\u001b[0m     \u001b[1;32mif\u001b[0m \u001b[0mrequire\u001b[0m \u001b[1;32mis\u001b[0m \u001b[1;32mNone\u001b[0m\u001b[1;33m:\u001b[0m\u001b[1;33m\u001b[0m\u001b[1;33m\u001b[0m\u001b[0m\n\u001b[1;32m--> 146\u001b[1;33m         \u001b[1;32mraise\u001b[0m \u001b[0mValueError\u001b[0m\u001b[1;33m\u001b[0m\u001b[1;33m\u001b[0m\u001b[0m\n\u001b[0m\u001b[0;32m    147\u001b[0m     \u001b[1;32mreturn\u001b[0m \u001b[0mrequire\u001b[0m\u001b[1;33m\u001b[0m\u001b[1;33m\u001b[0m\u001b[0m\n\u001b[0;32m    148\u001b[0m \u001b[1;33m\u001b[0m\u001b[0m\n",
      "\u001b[1;31mValueError\u001b[0m: "
     ]
    }
   ],
   "source": [
    "candy.Candy_Crush()"
   ]
  },
  {
   "cell_type": "markdown",
   "metadata": {},
   "source": [
    "# Tower of Saviors"
   ]
  },
  {
   "cell_type": "markdown",
   "metadata": {},
   "source": [
    "play Tower of Saviord please input:\n",
    "\n",
    "candy.ToS()"
   ]
  },
  {
   "cell_type": "code",
   "execution_count": 19,
   "metadata": {},
   "outputs": [
    {
     "name": "stdout",
     "output_type": "stream",
     "text": [
      "Game start!\n",
      "Press Enter to continue...\n",
      "What is your name:ASD\n",
      "Welcome ASD!\n",
      "What size of the table do you want in this game:4\n",
      "How many types of element do you want in this time:3\n",
      "What is your target for each element in this game:3\n",
      "Okay, we now prepare a 4 by 4 table for you as followed.\n",
      " 1  3  3  2 \n",
      " 2  3  2  3 \n",
      " 1  2  3  1 \n",
      " 2  2  1  2 \n",
      "Choose an arbitrary row on the table:3\n",
      "Choose an arbitrary column on the table:1\n",
      "Choose a direction to move the candy (U/D/L/R):R\n",
      " 1  3  3  2 \n",
      " 2  3  2  3 \n",
      " 2 [1] 3  1 \n",
      " 2  2  1  2 \n",
      "\n",
      "Choose a direction to move the candy (U/D/L/R):R\n",
      " 1  3  3  2 \n",
      " 2  3  2  3 \n",
      " 2  3 [1] 1 \n",
      " 2  2  1  2 \n",
      "\n",
      "Choose a direction to move the candy (U/D/L/R):R\n",
      " 1  3  3  2 \n",
      " 2  3  2  3 \n",
      " 2  3  1 [1]\n",
      " 2  2  1  2 \n",
      "\n",
      "Choose a direction to move the candy (U/D/L/R):R\n",
      "You have been already on the boundary of the table.\n",
      "Choose a direction to move the candy (U/D/L/R):U\n",
      " 1  3  3  2 \n",
      " 2  3  2 [1]\n",
      " 2  3  1  3 \n",
      " 2  2  1  2 \n",
      "\n",
      "Choose a direction to move the candy (U/D/L/R):L\n",
      " 1  3  3  2 \n",
      " 2  3 [1] 2 \n",
      " 2  3  1  3 \n",
      " 2  2  1  2 \n",
      "\n",
      "Choose a direction to move the candy (U/D/L/R):stop\n",
      " 1  0  3  2 \n",
      " 0  0  0  2 \n",
      " 0  0  0  3 \n",
      " 0  2  0  2 \n",
      "\n",
      " 2  2  2  2 \n",
      " 2  2  3  2 \n",
      " 1  1  1  3 \n",
      " 1  2  3  2 \n",
      "Type 1 scores 3 points.\n",
      "Type 2 scores 3 points.\n",
      "Type 3 scores 3 points.\n",
      " 0  0  0  0 \n",
      " 2  2  3  2 \n",
      " 0  0  0  3 \n",
      " 1  2  3  2 \n",
      "\n",
      " 3  1  1  3 \n",
      " 2  2  3  2 \n",
      " 2  2  3  3 \n",
      " 1  2  3  2 \n",
      "Type 1 scores 6 points.\n",
      "Type 2 scores 7 points.\n",
      "Type 3 scores 3 points.\n",
      " 3  1  1  3 \n",
      " 2  0  0  2 \n",
      " 2  0  0  3 \n",
      " 1  0  0  2 \n",
      "\n",
      " 3  1  1  3 \n",
      " 2  1  2  2 \n",
      " 2  3  1  3 \n",
      " 1  1  1  2 \n",
      "Type 1 scores 6 points.\n",
      "Type 2 scores 10 points.\n",
      "Type 3 scores 6 points.\n",
      " 3  1  1  3 \n",
      " 2  1  2  2 \n",
      " 2  3  1  3 \n",
      " 0  0  0  2 \n",
      "\n",
      " 3  3  3  3 \n",
      " 3  1  1  2 \n",
      " 2  1  2  3 \n",
      " 2  3  1  2 \n",
      "Type 1 scores 9 points.\n",
      "Type 2 scores 10 points.\n",
      "Type 3 scores 6 points.\n",
      " 0  0  0  0 \n",
      " 3  1  1  2 \n",
      " 2  1  2  3 \n",
      " 2  3  1  2 \n",
      "\n",
      " 3  3  3  2 \n",
      " 3  1  1  2 \n",
      " 2  1  2  3 \n",
      " 2  3  1  2 \n",
      "Type 1 scores 9 points.\n",
      "Type 2 scores 10 points.\n",
      "Type 3 scores 10 points.\n",
      " 0  0  0  2 \n",
      " 3  1  1  2 \n",
      " 2  1  2  3 \n",
      " 2  3  1  2 \n",
      "\n",
      " 1  3  3  2 \n",
      " 3  1  1  2 \n",
      " 2  1  2  3 \n",
      " 2  3  1  2 \n",
      "Type 1 scores 9 points.\n",
      "Type 2 scores 10 points.\n",
      "Type 3 scores 13 points.\n",
      "Congratulations!!\n",
      "ASD make only 1 move to finish the Tower of Saviors.\n"
     ]
    }
   ],
   "source": [
    "candy.ToS()"
   ]
  },
  {
   "cell_type": "code",
   "execution_count": null,
   "metadata": {},
   "outputs": [],
   "source": []
  }
 ],
 "metadata": {
  "kernelspec": {
   "display_name": "Python 3",
   "language": "python",
   "name": "python3"
  },
  "language_info": {
   "codemirror_mode": {
    "name": "ipython",
    "version": 3
   },
   "file_extension": ".py",
   "mimetype": "text/x-python",
   "name": "python",
   "nbconvert_exporter": "python",
   "pygments_lexer": "ipython3",
   "version": "3.7.6"
  }
 },
 "nbformat": 4,
 "nbformat_minor": 4
}
